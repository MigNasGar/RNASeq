{
 "cells": [
  {
   "cell_type": "code",
   "execution_count": null,
   "id": "66484cad-a760-4dbb-bdf4-b5e4f6685952",
   "metadata": {},
   "outputs": [],
   "source": [
    "%pip install sanbomics"
   ]
  },
  {
   "cell_type": "code",
   "execution_count": null,
   "id": "476a3c22",
   "metadata": {},
   "outputs": [],
   "source": [
    "#cat output.tab | tr \"\\\\t\" \",\" > data.csv\n",
    "#as my DESeq2 output was .tab file format I use this shell command to transforme it into a .csv file"
   ]
  },
  {
   "cell_type": "code",
   "execution_count": null,
   "id": "ef297749-cc9d-4c40-a2ab-70409f2fe2aa",
   "metadata": {},
   "outputs": [],
   "source": [
    "from sanbomics.plots import volcano"
   ]
  },
  {
   "cell_type": "code",
   "execution_count": null,
   "id": "ca7c3daa-9e5a-4c18-b505-984817a2b84c",
   "metadata": {},
   "outputs": [],
   "source": [
    "import pandas as pd\n",
    "\n",
    "df = pd.read_csv('data.csv') #defines teh DESeq2 output as the dataframe (df)\n",
    "df #prints the df, important for check headers names"
   ]
  },
  {
   "cell_type": "code",
   "execution_count": null,
   "id": "8c4285d4-1cb3-4924-a6e1-39e709026751",
   "metadata": {},
   "outputs": [],
   "source": [
    "volcano(df, symbol = 'Id', to_label = ['LmxM.06.0720', 'LmxM.32.1080', 'LmxM.21.1870'], save=True)\n",
    "#since there must be a 'symbols' column and in my output its name was 'id' I made the change\n",
    "#defined some genes to be labeld as well"
   ]
  },
  {
   "cell_type": "code",
   "execution_count": null,
   "id": "aed4cfe6-6159-4d89-99cc-d5ee3f625a51",
   "metadata": {},
   "outputs": [],
   "source": [
    "a = 'LmxM.15.1000'\n",
    "b = 'LmxM.06.0990'\n",
    "c = 'LmxM.36.3980'\n",
    "#defined some variables with the names of some genes"
   ]
  },
  {
   "cell_type": "code",
   "execution_count": null,
   "id": "a0cb3556-958b-408c-83d7-5832c56c8302",
   "metadata": {},
   "outputs": [],
   "source": [
    "volcano(df, symbol = 'Id', color_dict = {'Gene1': a, 'Gene2': b, 'Gene3': c}, save=True)\n",
    "#cadded color to my genes defined above to check their location in the plot"
   ]
  }
 ],
 "metadata": {
  "kernelspec": {
   "display_name": "Python 3.10.6 64-bit",
   "language": "python",
   "name": "python3"
  },
  "language_info": {
   "codemirror_mode": {
    "name": "ipython",
    "version": 3
   },
   "file_extension": ".py",
   "mimetype": "text/x-python",
   "name": "python",
   "nbconvert_exporter": "python",
   "pygments_lexer": "ipython3",
   "version": "3.10.6"
  },
  "vscode": {
   "interpreter": {
    "hash": "aee8b7b246df8f9039afb4144a1f6fd8d2ca17a180786b69acc140d282b71a49"
   }
  }
 },
 "nbformat": 4,
 "nbformat_minor": 5
}
